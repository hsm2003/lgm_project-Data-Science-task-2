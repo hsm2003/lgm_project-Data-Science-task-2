{
  "nbformat": 4,
  "nbformat_minor": 0,
  "metadata": {
    "colab": {
      "provenance": []
    },
    "kernelspec": {
      "name": "python3",
      "display_name": "Python 3"
    },
    "language_info": {
      "name": "python"
    }
  },
  "cells": [
    {
      "cell_type": "code",
      "execution_count": 17,
      "metadata": {
        "id": "GU_DZzZK3PUX"
      },
      "outputs": [],
      "source": [
        "#Importing Libraries\n",
        "import numpy as np\n",
        "import pandas as pd\n",
        "import seaborn as sb\n",
        "import math\n",
        "import matplotlib.pyplot as plt\n",
        "\n",
        "# For time stamps\n",
        "from datetime import datetime\n",
        "\n",
        "# Styling\n",
        "plt.style.use('seaborn-darkgrid')\n",
        "sb.set_style('whitegrid')"
      ]
    },
    {
      "cell_type": "code",
      "source": [
        "#Importing Dataset\n",
        "df = pd.read_csv('https://raw.githubusercontent.com/mwitiderrick/stockprice/master/NSE-TATAGLOBAL.csv')\n",
        "df"
      ],
      "metadata": {
        "colab": {
          "base_uri": "https://localhost:8080/",
          "height": 424
        },
        "id": "Sr2c-YXx3cxK",
        "outputId": "25bd1fa7-8e20-4461-8f5b-dfab7ff03542"
      },
      "execution_count": 16,
      "outputs": [
        {
          "output_type": "execute_result",
          "data": {
            "text/plain": [
              "            Date    Open    High     Low    Last   Close  \\\n",
              "0     2018-09-28  234.05  235.95  230.20  233.50  233.75   \n",
              "1     2018-09-27  234.55  236.80  231.10  233.80  233.25   \n",
              "2     2018-09-26  240.00  240.00  232.50  235.00  234.25   \n",
              "3     2018-09-25  233.30  236.75  232.00  236.25  236.10   \n",
              "4     2018-09-24  233.55  239.20  230.75  234.00  233.30   \n",
              "...          ...     ...     ...     ...     ...     ...   \n",
              "2030  2010-07-27  117.60  119.50  112.00  118.80  118.65   \n",
              "2031  2010-07-26  120.10  121.00  117.10  117.10  117.60   \n",
              "2032  2010-07-23  121.80  121.95  120.25  120.35  120.65   \n",
              "2033  2010-07-22  120.30  122.00  120.25  120.75  120.90   \n",
              "2034  2010-07-21  122.10  123.00  121.05  121.10  121.55   \n",
              "\n",
              "      Total Trade Quantity  Turnover (Lacs)  \n",
              "0                  3069914          7162.35  \n",
              "1                  5082859         11859.95  \n",
              "2                  2240909          5248.60  \n",
              "3                  2349368          5503.90  \n",
              "4                  3423509          7999.55  \n",
              "...                    ...              ...  \n",
              "2030                586100           694.98  \n",
              "2031                658440           780.01  \n",
              "2032                281312           340.31  \n",
              "2033                293312           355.17  \n",
              "2034                658666           803.56  \n",
              "\n",
              "[2035 rows x 8 columns]"
            ],
            "text/html": [
              "\n",
              "  <div id=\"df-5d9e88bf-8126-479d-abdf-77719aae8c11\">\n",
              "    <div class=\"colab-df-container\">\n",
              "      <div>\n",
              "<style scoped>\n",
              "    .dataframe tbody tr th:only-of-type {\n",
              "        vertical-align: middle;\n",
              "    }\n",
              "\n",
              "    .dataframe tbody tr th {\n",
              "        vertical-align: top;\n",
              "    }\n",
              "\n",
              "    .dataframe thead th {\n",
              "        text-align: right;\n",
              "    }\n",
              "</style>\n",
              "<table border=\"1\" class=\"dataframe\">\n",
              "  <thead>\n",
              "    <tr style=\"text-align: right;\">\n",
              "      <th></th>\n",
              "      <th>Date</th>\n",
              "      <th>Open</th>\n",
              "      <th>High</th>\n",
              "      <th>Low</th>\n",
              "      <th>Last</th>\n",
              "      <th>Close</th>\n",
              "      <th>Total Trade Quantity</th>\n",
              "      <th>Turnover (Lacs)</th>\n",
              "    </tr>\n",
              "  </thead>\n",
              "  <tbody>\n",
              "    <tr>\n",
              "      <th>0</th>\n",
              "      <td>2018-09-28</td>\n",
              "      <td>234.05</td>\n",
              "      <td>235.95</td>\n",
              "      <td>230.20</td>\n",
              "      <td>233.50</td>\n",
              "      <td>233.75</td>\n",
              "      <td>3069914</td>\n",
              "      <td>7162.35</td>\n",
              "    </tr>\n",
              "    <tr>\n",
              "      <th>1</th>\n",
              "      <td>2018-09-27</td>\n",
              "      <td>234.55</td>\n",
              "      <td>236.80</td>\n",
              "      <td>231.10</td>\n",
              "      <td>233.80</td>\n",
              "      <td>233.25</td>\n",
              "      <td>5082859</td>\n",
              "      <td>11859.95</td>\n",
              "    </tr>\n",
              "    <tr>\n",
              "      <th>2</th>\n",
              "      <td>2018-09-26</td>\n",
              "      <td>240.00</td>\n",
              "      <td>240.00</td>\n",
              "      <td>232.50</td>\n",
              "      <td>235.00</td>\n",
              "      <td>234.25</td>\n",
              "      <td>2240909</td>\n",
              "      <td>5248.60</td>\n",
              "    </tr>\n",
              "    <tr>\n",
              "      <th>3</th>\n",
              "      <td>2018-09-25</td>\n",
              "      <td>233.30</td>\n",
              "      <td>236.75</td>\n",
              "      <td>232.00</td>\n",
              "      <td>236.25</td>\n",
              "      <td>236.10</td>\n",
              "      <td>2349368</td>\n",
              "      <td>5503.90</td>\n",
              "    </tr>\n",
              "    <tr>\n",
              "      <th>4</th>\n",
              "      <td>2018-09-24</td>\n",
              "      <td>233.55</td>\n",
              "      <td>239.20</td>\n",
              "      <td>230.75</td>\n",
              "      <td>234.00</td>\n",
              "      <td>233.30</td>\n",
              "      <td>3423509</td>\n",
              "      <td>7999.55</td>\n",
              "    </tr>\n",
              "    <tr>\n",
              "      <th>...</th>\n",
              "      <td>...</td>\n",
              "      <td>...</td>\n",
              "      <td>...</td>\n",
              "      <td>...</td>\n",
              "      <td>...</td>\n",
              "      <td>...</td>\n",
              "      <td>...</td>\n",
              "      <td>...</td>\n",
              "    </tr>\n",
              "    <tr>\n",
              "      <th>2030</th>\n",
              "      <td>2010-07-27</td>\n",
              "      <td>117.60</td>\n",
              "      <td>119.50</td>\n",
              "      <td>112.00</td>\n",
              "      <td>118.80</td>\n",
              "      <td>118.65</td>\n",
              "      <td>586100</td>\n",
              "      <td>694.98</td>\n",
              "    </tr>\n",
              "    <tr>\n",
              "      <th>2031</th>\n",
              "      <td>2010-07-26</td>\n",
              "      <td>120.10</td>\n",
              "      <td>121.00</td>\n",
              "      <td>117.10</td>\n",
              "      <td>117.10</td>\n",
              "      <td>117.60</td>\n",
              "      <td>658440</td>\n",
              "      <td>780.01</td>\n",
              "    </tr>\n",
              "    <tr>\n",
              "      <th>2032</th>\n",
              "      <td>2010-07-23</td>\n",
              "      <td>121.80</td>\n",
              "      <td>121.95</td>\n",
              "      <td>120.25</td>\n",
              "      <td>120.35</td>\n",
              "      <td>120.65</td>\n",
              "      <td>281312</td>\n",
              "      <td>340.31</td>\n",
              "    </tr>\n",
              "    <tr>\n",
              "      <th>2033</th>\n",
              "      <td>2010-07-22</td>\n",
              "      <td>120.30</td>\n",
              "      <td>122.00</td>\n",
              "      <td>120.25</td>\n",
              "      <td>120.75</td>\n",
              "      <td>120.90</td>\n",
              "      <td>293312</td>\n",
              "      <td>355.17</td>\n",
              "    </tr>\n",
              "    <tr>\n",
              "      <th>2034</th>\n",
              "      <td>2010-07-21</td>\n",
              "      <td>122.10</td>\n",
              "      <td>123.00</td>\n",
              "      <td>121.05</td>\n",
              "      <td>121.10</td>\n",
              "      <td>121.55</td>\n",
              "      <td>658666</td>\n",
              "      <td>803.56</td>\n",
              "    </tr>\n",
              "  </tbody>\n",
              "</table>\n",
              "<p>2035 rows × 8 columns</p>\n",
              "</div>\n",
              "      <button class=\"colab-df-convert\" onclick=\"convertToInteractive('df-5d9e88bf-8126-479d-abdf-77719aae8c11')\"\n",
              "              title=\"Convert this dataframe to an interactive table.\"\n",
              "              style=\"display:none;\">\n",
              "        \n",
              "  <svg xmlns=\"http://www.w3.org/2000/svg\" height=\"24px\"viewBox=\"0 0 24 24\"\n",
              "       width=\"24px\">\n",
              "    <path d=\"M0 0h24v24H0V0z\" fill=\"none\"/>\n",
              "    <path d=\"M18.56 5.44l.94 2.06.94-2.06 2.06-.94-2.06-.94-.94-2.06-.94 2.06-2.06.94zm-11 1L8.5 8.5l.94-2.06 2.06-.94-2.06-.94L8.5 2.5l-.94 2.06-2.06.94zm10 10l.94 2.06.94-2.06 2.06-.94-2.06-.94-.94-2.06-.94 2.06-2.06.94z\"/><path d=\"M17.41 7.96l-1.37-1.37c-.4-.4-.92-.59-1.43-.59-.52 0-1.04.2-1.43.59L10.3 9.45l-7.72 7.72c-.78.78-.78 2.05 0 2.83L4 21.41c.39.39.9.59 1.41.59.51 0 1.02-.2 1.41-.59l7.78-7.78 2.81-2.81c.8-.78.8-2.07 0-2.86zM5.41 20L4 18.59l7.72-7.72 1.47 1.35L5.41 20z\"/>\n",
              "  </svg>\n",
              "      </button>\n",
              "      \n",
              "  <style>\n",
              "    .colab-df-container {\n",
              "      display:flex;\n",
              "      flex-wrap:wrap;\n",
              "      gap: 12px;\n",
              "    }\n",
              "\n",
              "    .colab-df-convert {\n",
              "      background-color: #E8F0FE;\n",
              "      border: none;\n",
              "      border-radius: 50%;\n",
              "      cursor: pointer;\n",
              "      display: none;\n",
              "      fill: #1967D2;\n",
              "      height: 32px;\n",
              "      padding: 0 0 0 0;\n",
              "      width: 32px;\n",
              "    }\n",
              "\n",
              "    .colab-df-convert:hover {\n",
              "      background-color: #E2EBFA;\n",
              "      box-shadow: 0px 1px 2px rgba(60, 64, 67, 0.3), 0px 1px 3px 1px rgba(60, 64, 67, 0.15);\n",
              "      fill: #174EA6;\n",
              "    }\n",
              "\n",
              "    [theme=dark] .colab-df-convert {\n",
              "      background-color: #3B4455;\n",
              "      fill: #D2E3FC;\n",
              "    }\n",
              "\n",
              "    [theme=dark] .colab-df-convert:hover {\n",
              "      background-color: #434B5C;\n",
              "      box-shadow: 0px 1px 3px 1px rgba(0, 0, 0, 0.15);\n",
              "      filter: drop-shadow(0px 1px 2px rgba(0, 0, 0, 0.3));\n",
              "      fill: #FFFFFF;\n",
              "    }\n",
              "  </style>\n",
              "\n",
              "      <script>\n",
              "        const buttonEl =\n",
              "          document.querySelector('#df-5d9e88bf-8126-479d-abdf-77719aae8c11 button.colab-df-convert');\n",
              "        buttonEl.style.display =\n",
              "          google.colab.kernel.accessAllowed ? 'block' : 'none';\n",
              "\n",
              "        async function convertToInteractive(key) {\n",
              "          const element = document.querySelector('#df-5d9e88bf-8126-479d-abdf-77719aae8c11');\n",
              "          const dataTable =\n",
              "            await google.colab.kernel.invokeFunction('convertToInteractive',\n",
              "                                                     [key], {});\n",
              "          if (!dataTable) return;\n",
              "\n",
              "          const docLinkHtml = 'Like what you see? Visit the ' +\n",
              "            '<a target=\"_blank\" href=https://colab.research.google.com/notebooks/data_table.ipynb>data table notebook</a>'\n",
              "            + ' to learn more about interactive tables.';\n",
              "          element.innerHTML = '';\n",
              "          dataTable['output_type'] = 'display_data';\n",
              "          await google.colab.output.renderOutput(dataTable, element);\n",
              "          const docLink = document.createElement('div');\n",
              "          docLink.innerHTML = docLinkHtml;\n",
              "          element.appendChild(docLink);\n",
              "        }\n",
              "      </script>\n",
              "    </div>\n",
              "  </div>\n",
              "  "
            ]
          },
          "metadata": {},
          "execution_count": 16
        }
      ]
    },
    {
      "cell_type": "code",
      "source": [
        "df.info()"
      ],
      "metadata": {
        "colab": {
          "base_uri": "https://localhost:8080/",
          "height": 0
        },
        "id": "2LDm_dom6PTo",
        "outputId": "db1cec2c-8d49-4bdf-da06-effc5dd35dc9"
      },
      "execution_count": 13,
      "outputs": [
        {
          "output_type": "stream",
          "name": "stdout",
          "text": [
            "<class 'pandas.core.frame.DataFrame'>\n",
            "RangeIndex: 2035 entries, 0 to 2034\n",
            "Data columns (total 8 columns):\n",
            " #   Column                Non-Null Count  Dtype  \n",
            "---  ------                --------------  -----  \n",
            " 0   Date                  2035 non-null   object \n",
            " 1   Open                  2035 non-null   float64\n",
            " 2   High                  2035 non-null   float64\n",
            " 3   Low                   2035 non-null   float64\n",
            " 4   Last                  2035 non-null   float64\n",
            " 5   Close                 2035 non-null   float64\n",
            " 6   Total Trade Quantity  2035 non-null   int64  \n",
            " 7   Turnover (Lacs)       2035 non-null   float64\n",
            "dtypes: float64(6), int64(1), object(1)\n",
            "memory usage: 127.3+ KB\n"
          ]
        }
      ]
    },
    {
      "cell_type": "code",
      "source": [
        "df.describe()"
      ],
      "metadata": {
        "colab": {
          "base_uri": "https://localhost:8080/",
          "height": 300
        },
        "id": "eoe81VjT6d83",
        "outputId": "b089bf07-86ec-4a5d-ea33-95d85a5a63cc"
      },
      "execution_count": 14,
      "outputs": [
        {
          "output_type": "execute_result",
          "data": {
            "text/plain": [
              "              Open         High          Low         Last       Close  \\\n",
              "count  2035.000000  2035.000000  2035.000000  2035.000000  2035.00000   \n",
              "mean    149.713735   151.992826   147.293931   149.474251   149.45027   \n",
              "std      48.664509    49.413109    47.931958    48.732570    48.71204   \n",
              "min      81.100000    82.800000    80.000000    81.000000    80.95000   \n",
              "25%     120.025000   122.100000   118.300000   120.075000   120.05000   \n",
              "50%     141.500000   143.400000   139.600000   141.100000   141.25000   \n",
              "75%     157.175000   159.400000   155.150000   156.925000   156.90000   \n",
              "max     327.700000   328.750000   321.650000   325.950000   325.75000   \n",
              "\n",
              "       Total Trade Quantity  Turnover (Lacs)  \n",
              "count          2.035000e+03      2035.000000  \n",
              "mean           2.335681e+06      3899.980565  \n",
              "std            2.091778e+06      4570.767877  \n",
              "min            3.961000e+04        37.040000  \n",
              "25%            1.146444e+06      1427.460000  \n",
              "50%            1.783456e+06      2512.030000  \n",
              "75%            2.813594e+06      4539.015000  \n",
              "max            2.919102e+07     55755.080000  "
            ],
            "text/html": [
              "\n",
              "  <div id=\"df-59986513-9043-460c-8cf3-b696d6475639\">\n",
              "    <div class=\"colab-df-container\">\n",
              "      <div>\n",
              "<style scoped>\n",
              "    .dataframe tbody tr th:only-of-type {\n",
              "        vertical-align: middle;\n",
              "    }\n",
              "\n",
              "    .dataframe tbody tr th {\n",
              "        vertical-align: top;\n",
              "    }\n",
              "\n",
              "    .dataframe thead th {\n",
              "        text-align: right;\n",
              "    }\n",
              "</style>\n",
              "<table border=\"1\" class=\"dataframe\">\n",
              "  <thead>\n",
              "    <tr style=\"text-align: right;\">\n",
              "      <th></th>\n",
              "      <th>Open</th>\n",
              "      <th>High</th>\n",
              "      <th>Low</th>\n",
              "      <th>Last</th>\n",
              "      <th>Close</th>\n",
              "      <th>Total Trade Quantity</th>\n",
              "      <th>Turnover (Lacs)</th>\n",
              "    </tr>\n",
              "  </thead>\n",
              "  <tbody>\n",
              "    <tr>\n",
              "      <th>count</th>\n",
              "      <td>2035.000000</td>\n",
              "      <td>2035.000000</td>\n",
              "      <td>2035.000000</td>\n",
              "      <td>2035.000000</td>\n",
              "      <td>2035.00000</td>\n",
              "      <td>2.035000e+03</td>\n",
              "      <td>2035.000000</td>\n",
              "    </tr>\n",
              "    <tr>\n",
              "      <th>mean</th>\n",
              "      <td>149.713735</td>\n",
              "      <td>151.992826</td>\n",
              "      <td>147.293931</td>\n",
              "      <td>149.474251</td>\n",
              "      <td>149.45027</td>\n",
              "      <td>2.335681e+06</td>\n",
              "      <td>3899.980565</td>\n",
              "    </tr>\n",
              "    <tr>\n",
              "      <th>std</th>\n",
              "      <td>48.664509</td>\n",
              "      <td>49.413109</td>\n",
              "      <td>47.931958</td>\n",
              "      <td>48.732570</td>\n",
              "      <td>48.71204</td>\n",
              "      <td>2.091778e+06</td>\n",
              "      <td>4570.767877</td>\n",
              "    </tr>\n",
              "    <tr>\n",
              "      <th>min</th>\n",
              "      <td>81.100000</td>\n",
              "      <td>82.800000</td>\n",
              "      <td>80.000000</td>\n",
              "      <td>81.000000</td>\n",
              "      <td>80.95000</td>\n",
              "      <td>3.961000e+04</td>\n",
              "      <td>37.040000</td>\n",
              "    </tr>\n",
              "    <tr>\n",
              "      <th>25%</th>\n",
              "      <td>120.025000</td>\n",
              "      <td>122.100000</td>\n",
              "      <td>118.300000</td>\n",
              "      <td>120.075000</td>\n",
              "      <td>120.05000</td>\n",
              "      <td>1.146444e+06</td>\n",
              "      <td>1427.460000</td>\n",
              "    </tr>\n",
              "    <tr>\n",
              "      <th>50%</th>\n",
              "      <td>141.500000</td>\n",
              "      <td>143.400000</td>\n",
              "      <td>139.600000</td>\n",
              "      <td>141.100000</td>\n",
              "      <td>141.25000</td>\n",
              "      <td>1.783456e+06</td>\n",
              "      <td>2512.030000</td>\n",
              "    </tr>\n",
              "    <tr>\n",
              "      <th>75%</th>\n",
              "      <td>157.175000</td>\n",
              "      <td>159.400000</td>\n",
              "      <td>155.150000</td>\n",
              "      <td>156.925000</td>\n",
              "      <td>156.90000</td>\n",
              "      <td>2.813594e+06</td>\n",
              "      <td>4539.015000</td>\n",
              "    </tr>\n",
              "    <tr>\n",
              "      <th>max</th>\n",
              "      <td>327.700000</td>\n",
              "      <td>328.750000</td>\n",
              "      <td>321.650000</td>\n",
              "      <td>325.950000</td>\n",
              "      <td>325.75000</td>\n",
              "      <td>2.919102e+07</td>\n",
              "      <td>55755.080000</td>\n",
              "    </tr>\n",
              "  </tbody>\n",
              "</table>\n",
              "</div>\n",
              "      <button class=\"colab-df-convert\" onclick=\"convertToInteractive('df-59986513-9043-460c-8cf3-b696d6475639')\"\n",
              "              title=\"Convert this dataframe to an interactive table.\"\n",
              "              style=\"display:none;\">\n",
              "        \n",
              "  <svg xmlns=\"http://www.w3.org/2000/svg\" height=\"24px\"viewBox=\"0 0 24 24\"\n",
              "       width=\"24px\">\n",
              "    <path d=\"M0 0h24v24H0V0z\" fill=\"none\"/>\n",
              "    <path d=\"M18.56 5.44l.94 2.06.94-2.06 2.06-.94-2.06-.94-.94-2.06-.94 2.06-2.06.94zm-11 1L8.5 8.5l.94-2.06 2.06-.94-2.06-.94L8.5 2.5l-.94 2.06-2.06.94zm10 10l.94 2.06.94-2.06 2.06-.94-2.06-.94-.94-2.06-.94 2.06-2.06.94z\"/><path d=\"M17.41 7.96l-1.37-1.37c-.4-.4-.92-.59-1.43-.59-.52 0-1.04.2-1.43.59L10.3 9.45l-7.72 7.72c-.78.78-.78 2.05 0 2.83L4 21.41c.39.39.9.59 1.41.59.51 0 1.02-.2 1.41-.59l7.78-7.78 2.81-2.81c.8-.78.8-2.07 0-2.86zM5.41 20L4 18.59l7.72-7.72 1.47 1.35L5.41 20z\"/>\n",
              "  </svg>\n",
              "      </button>\n",
              "      \n",
              "  <style>\n",
              "    .colab-df-container {\n",
              "      display:flex;\n",
              "      flex-wrap:wrap;\n",
              "      gap: 12px;\n",
              "    }\n",
              "\n",
              "    .colab-df-convert {\n",
              "      background-color: #E8F0FE;\n",
              "      border: none;\n",
              "      border-radius: 50%;\n",
              "      cursor: pointer;\n",
              "      display: none;\n",
              "      fill: #1967D2;\n",
              "      height: 32px;\n",
              "      padding: 0 0 0 0;\n",
              "      width: 32px;\n",
              "    }\n",
              "\n",
              "    .colab-df-convert:hover {\n",
              "      background-color: #E2EBFA;\n",
              "      box-shadow: 0px 1px 2px rgba(60, 64, 67, 0.3), 0px 1px 3px 1px rgba(60, 64, 67, 0.15);\n",
              "      fill: #174EA6;\n",
              "    }\n",
              "\n",
              "    [theme=dark] .colab-df-convert {\n",
              "      background-color: #3B4455;\n",
              "      fill: #D2E3FC;\n",
              "    }\n",
              "\n",
              "    [theme=dark] .colab-df-convert:hover {\n",
              "      background-color: #434B5C;\n",
              "      box-shadow: 0px 1px 3px 1px rgba(0, 0, 0, 0.15);\n",
              "      filter: drop-shadow(0px 1px 2px rgba(0, 0, 0, 0.3));\n",
              "      fill: #FFFFFF;\n",
              "    }\n",
              "  </style>\n",
              "\n",
              "      <script>\n",
              "        const buttonEl =\n",
              "          document.querySelector('#df-59986513-9043-460c-8cf3-b696d6475639 button.colab-df-convert');\n",
              "        buttonEl.style.display =\n",
              "          google.colab.kernel.accessAllowed ? 'block' : 'none';\n",
              "\n",
              "        async function convertToInteractive(key) {\n",
              "          const element = document.querySelector('#df-59986513-9043-460c-8cf3-b696d6475639');\n",
              "          const dataTable =\n",
              "            await google.colab.kernel.invokeFunction('convertToInteractive',\n",
              "                                                     [key], {});\n",
              "          if (!dataTable) return;\n",
              "\n",
              "          const docLinkHtml = 'Like what you see? Visit the ' +\n",
              "            '<a target=\"_blank\" href=https://colab.research.google.com/notebooks/data_table.ipynb>data table notebook</a>'\n",
              "            + ' to learn more about interactive tables.';\n",
              "          element.innerHTML = '';\n",
              "          dataTable['output_type'] = 'display_data';\n",
              "          await google.colab.output.renderOutput(dataTable, element);\n",
              "          const docLink = document.createElement('div');\n",
              "          docLink.innerHTML = docLinkHtml;\n",
              "          element.appendChild(docLink);\n",
              "        }\n",
              "      </script>\n",
              "    </div>\n",
              "  </div>\n",
              "  "
            ]
          },
          "metadata": {},
          "execution_count": 14
        }
      ]
    },
    {
      "cell_type": "code",
      "source": [
        "# Historical Graph of the closing price\n",
        "plt.figure(figsize=(16, 7))\n",
        "plt.plot(df['Close'])\n",
        "plt.show()"
      ],
      "metadata": {
        "colab": {
          "base_uri": "https://localhost:8080/",
          "height": 425
        },
        "id": "S3WCjYM03qBo",
        "outputId": "e4b4c9a9-efd1-47c9-b21c-1199a2dae51b"
      },
      "execution_count": 15,
      "outputs": [
        {
          "output_type": "display_data",
          "data": {
            "text/plain": [
              "<Figure size 1152x504 with 1 Axes>"
            ],
            "image/png": "[encoded data removed]"
          },
          "metadata": {}
        }
      ]
    },
    {
      "cell_type": "code",
      "source": [
        "# Volume of stock traded each day\n",
        "plt.figure(figsize=(16, 7))\n",
        "plt.plot(df['Total Trade Quantity'])\n",
        "plt.show()"
      ],
      "metadata": {
        "colab": {
          "base_uri": "https://localhost:8080/",
          "height": 436
        },
        "id": "t-5VbUmm7Fsb",
        "outputId": "8ecf0a18-90b3-4abc-e223-5206a5121f8a"
      },
      "execution_count": 18,
      "outputs": [
        {
          "output_type": "display_data",
          "data": {
            "text/plain": [
              "<Figure size 1152x504 with 1 Axes>"
            ],
            "image/png": "[encoded data removed]"
          },
          "metadata": {}
        }
      ]
    },
    {
      "cell_type": "code",
      "source": [
        "from sklearn.preprocessing import MinMaxScaler\n",
        "scaler = MinMaxScaler(feature_range=(0,1))\n",
        "df1 = scaler.fit_transform(np.array(df['Close']).reshape(-1,1))"
      ],
      "metadata": {
        "id": "dWpYG8BZ310Q"
      },
      "execution_count": 4,
      "outputs": []
    },
    {
      "cell_type": "code",
      "source": [
        "df1"
      ],
      "metadata": {
        "colab": {
          "base_uri": "https://localhost:8080/",
          "height": 0
        },
        "id": "wMt5GM1R4EPY",
        "outputId": "e892b0a3-84bc-4e0a-8f15-e943904d253b"
      },
      "execution_count": 5,
      "outputs": [
        {
          "output_type": "execute_result",
          "data": {
            "text/plain": [
              "array([[0.62418301],\n",
              "       [0.62214052],\n",
              "       [0.62622549],\n",
              "       ...,\n",
              "       [0.1621732 ],\n",
              "       [0.16319444],\n",
              "       [0.16584967]])"
            ]
          },
          "metadata": {},
          "execution_count": 5
        }
      ]
    },
    {
      "cell_type": "code",
      "source": [
        "#Splitting Dataset Into Train and Test Data\n",
        "training_size = int(len(df1)*0.75)\n",
        "test_size = len(df1)-training_size\n",
        "train_data,test_data = df1[0:training_size,:],df1[training_size:len(df1),:1]"
      ],
      "metadata": {
        "id": "vhnUDlnO4JPZ"
      },
      "execution_count": 19,
      "outputs": []
    },
    {
      "cell_type": "code",
      "source": [
        "training_size"
      ],
      "metadata": {
        "colab": {
          "base_uri": "https://localhost:8080/",
          "height": 0
        },
        "id": "mUsGtqYW8EjT",
        "outputId": "488f9a39-fee1-474e-8052-ef21ae999278"
      },
      "execution_count": 20,
      "outputs": [
        {
          "output_type": "execute_result",
          "data": {
            "text/plain": [
              "1526"
            ]
          },
          "metadata": {},
          "execution_count": 20
        }
      ]
    },
    {
      "cell_type": "code",
      "source": [
        "test_size"
      ],
      "metadata": {
        "colab": {
          "base_uri": "https://localhost:8080/",
          "height": 0
        },
        "id": "hEgHJyKK8LLR",
        "outputId": "79e2701b-0138-4170-da12-2f25b5e4c618"
      },
      "execution_count": 21,
      "outputs": [
        {
          "output_type": "execute_result",
          "data": {
            "text/plain": [
              "509"
            ]
          },
          "metadata": {},
          "execution_count": 21
        }
      ]
    },
    {
      "cell_type": "code",
      "source": [
        "# convert an array of values into a dataset matrix\n",
        "def create_dataset(dataset, time_step=1):\n",
        "    dataX, dataY = [], []\n",
        "    for i in range(len(dataset)-time_step-1):\n",
        "        a = dataset[i:(i+time_step), 0]\n",
        "        dataX.append(a)\n",
        "        dataY.append(dataset[i + time_step, 0])\n",
        "    return np.array(dataX), np.array(dataY)"
      ],
      "metadata": {
        "id": "h64DbUR94QGP"
      },
      "execution_count": 22,
      "outputs": []
    },
    {
      "cell_type": "code",
      "source": [
        "X_train, Y_train = create_dataset(train_data, 100)\n",
        "X_test, Y_test = create_dataset(test_data, 100)"
      ],
      "metadata": {
        "id": "M7RY3Z8K4ZWg"
      },
      "execution_count": 8,
      "outputs": []
    },
    {
      "cell_type": "code",
      "source": [
        "print(X_train.shape), print(Y_train.shape)"
      ],
      "metadata": {
        "colab": {
          "base_uri": "https://localhost:8080/",
          "height": 0
        },
        "id": "Mq_uR7GM8tn5",
        "outputId": "4943ee15-1720-49bd-ba4b-ba703d2a8977"
      },
      "execution_count": 23,
      "outputs": [
        {
          "output_type": "stream",
          "name": "stdout",
          "text": [
            "(1425, 100, 1)\n",
            "(1425,)\n"
          ]
        },
        {
          "output_type": "execute_result",
          "data": {
            "text/plain": [
              "(None, None)"
            ]
          },
          "metadata": {},
          "execution_count": 23
        }
      ]
    },
    {
      "cell_type": "code",
      "source": [
        "print(X_test.shape), print(Y_test.shape)"
      ],
      "metadata": {
        "colab": {
          "base_uri": "https://localhost:8080/",
          "height": 0
        },
        "id": "B0T96iWU89Gx",
        "outputId": "5cefa3dc-b97e-434f-8b04-7a3ee5653475"
      },
      "execution_count": 24,
      "outputs": [
        {
          "output_type": "stream",
          "name": "stdout",
          "text": [
            "(408, 100, 1)\n",
            "(408,)\n"
          ]
        },
        {
          "output_type": "execute_result",
          "data": {
            "text/plain": [
              "(None, None)"
            ]
          },
          "metadata": {},
          "execution_count": 24
        }
      ]
    },
    {
      "cell_type": "code",
      "source": [
        "# Reshaping input to [samples, time steps, features] required for LSTM\n",
        "X_train =X_train.reshape(X_train.shape[0],X_train.shape[1] , 1)\n",
        "X_test = X_test.reshape(X_test.shape[0],X_test.shape[1] , 1)"
      ],
      "metadata": {
        "id": "3jhY3I5e4hA6"
      },
      "execution_count": 25,
      "outputs": []
    },
    {
      "cell_type": "code",
      "source": [
        "# Importing Tensorflow Module\n",
        "from tensorflow.keras.models import Sequential\n",
        "from tensorflow.keras.layers import Dense, LSTM\n",
        "\n",
        "# Build the LSTM model\n",
        "model = Sequential()\n",
        "model.add(LSTM(50,return_sequences=True,input_shape=(X_train.shape[1], 1)))\n",
        "model.add(LSTM(50,return_sequences=True))\n",
        "model.add(LSTM(50))\n",
        "model.add(Dense(1))\n",
        "\n",
        "# Compile the model\n",
        "model.compile(loss='mean_squared_error', optimizer='adam')\n",
        "\n",
        "\n",
        "# Train the model\n",
        "model.fit(X_train, Y_train, batch_size=1, epochs=1)"
      ],
      "metadata": {
        "colab": {
          "base_uri": "https://localhost:8080/",
          "height": 0
        },
        "id": "zs69svxO4wqo",
        "outputId": "2a576387-6288-4c8d-8836-ce445ec47c2b"
      },
      "execution_count": 26,
      "outputs": [
        {
          "output_type": "stream",
          "name": "stdout",
          "text": [
            "1425/1425 [==============================] - 99s 66ms/step - loss: 0.0031\n"
          ]
        },
        {
          "output_type": "execute_result",
          "data": {
            "text/plain": [
              "<keras.callbacks.History at 0x7f203ad810a0>"
            ]
          },
          "metadata": {},
          "execution_count": 26
        }
      ]
    },
    {
      "cell_type": "code",
      "source": [
        "# Lets predict now and check performance metrics\n",
        "train_predict = model.predict(X_train)\n",
        "test_predict = model.predict(X_test)\n",
        "train_predict = scaler.inverse_transform(train_predict)\n",
        "test_predict = scaler.inverse_transform(test_predict)"
      ],
      "metadata": {
        "colab": {
          "base_uri": "https://localhost:8080/",
          "height": 0
        },
        "id": "vwnHi9lv47Hi",
        "outputId": "60993866-101a-4839-f9e3-2f2d847175ec"
      },
      "execution_count": 27,
      "outputs": [
        {
          "output_type": "stream",
          "name": "stdout",
          "text": [
            "45/45 [==============================] - 3s 33ms/step\n",
            "13/13 [==============================] - 0s 33ms/step\n"
          ]
        }
      ]
    },
    {
      "cell_type": "code",
      "source": [
        "### Calculate Root Mean Squared Error\n",
        "from sklearn.metrics import mean_squared_error\n",
        "print(\"Y Train:\",math.sqrt(mean_squared_error(Y_train,train_predict)))\n",
        "print(\"Y Test:\",math.sqrt(mean_squared_error(Y_test,test_predict)))"
      ],
      "metadata": {
        "colab": {
          "base_uri": "https://localhost:8080/",
          "height": 0
        },
        "id": "rjLFI-YA5hjz",
        "outputId": "b4cc48f6-180a-4c88-a453-3cd3b881d1ae"
      },
      "execution_count": 28,
      "outputs": [
        {
          "output_type": "stream",
          "name": "stdout",
          "text": [
            "Y Train: 165.46301663669465\n",
            "Y Test: 116.72534773707997\n"
          ]
        }
      ]
    }
  ]
}